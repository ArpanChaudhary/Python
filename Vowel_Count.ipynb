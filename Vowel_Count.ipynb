{
  "nbformat": 4,
  "nbformat_minor": 0,
  "metadata": {
    "colab": {
      "provenance": [],
      "authorship_tag": "ABX9TyNtI9GcXNdUHWHdJVbKlXji",
      "include_colab_link": true
    },
    "kernelspec": {
      "name": "python3",
      "display_name": "Python 3"
    },
    "language_info": {
      "name": "python"
    }
  },
  "cells": [
    {
      "cell_type": "markdown",
      "metadata": {
        "id": "view-in-github",
        "colab_type": "text"
      },
      "source": [
        "<a href=\"https://colab.research.google.com/github/ArpanChaudhary/Python/blob/main/Vowel_Count.ipynb\" target=\"_parent\"><img src=\"https://colab.research.google.com/assets/colab-badge.svg\" alt=\"Open In Colab\"/></a>"
      ]
    },
    {
      "cell_type": "code",
      "source": [
        "def count_vowels(s):\n",
        "  vowels='aeiouAEIOU'\n",
        "  count=0\n",
        "\n",
        "  for char in s:\n",
        "    if char in vowels:\n",
        "      count+=1\n",
        "  return count\n",
        "\n",
        "string = input(\"Enter string: \")\n",
        "\n",
        "print(\"Total vowels: \",count_vowels(string))"
      ],
      "metadata": {
        "colab": {
          "base_uri": "https://localhost:8080/"
        },
        "id": "89fpOy7jRFgm",
        "outputId": "2a57d39c-ced4-4bac-ba00-a76f380c62b7"
      },
      "execution_count": 4,
      "outputs": [
        {
          "output_type": "stream",
          "name": "stdout",
          "text": [
            "Enter string: aeiouAEIOU\n",
            "Total vowels:  10\n"
          ]
        }
      ]
    }
  ]
}