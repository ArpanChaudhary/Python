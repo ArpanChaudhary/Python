{
  "nbformat": 4,
  "nbformat_minor": 0,
  "metadata": {
    "colab": {
      "provenance": [],
      "authorship_tag": "ABX9TyNAaHJMUtgAd1kVLE2DLfEi",
      "include_colab_link": true
    },
    "kernelspec": {
      "name": "python3",
      "display_name": "Python 3"
    },
    "language_info": {
      "name": "python"
    }
  },
  "cells": [
    {
      "cell_type": "markdown",
      "metadata": {
        "id": "view-in-github",
        "colab_type": "text"
      },
      "source": [
        "<a href=\"https://colab.research.google.com/github/ArpanChaudhary/Python/blob/main/PositionInList.ipynb\" target=\"_parent\"><img src=\"https://colab.research.google.com/assets/colab-badge.svg\" alt=\"Open In Colab\"/></a>"
      ]
    },
    {
      "cell_type": "code",
      "source": [
        "def position(l,v):\n",
        "  (pos,i) = (-1,0)\n",
        "  for x in l:\n",
        "    if x==v:\n",
        "      pos=i\n",
        "      break\n",
        "    i=i+1\n",
        "  return pos"
      ],
      "metadata": {
        "id": "QOmchkjZBgi7"
      },
      "execution_count": 1,
      "outputs": []
    },
    {
      "cell_type": "code",
      "source": [
        "l = [1,4,2,3,5,6]\n",
        "\n",
        "position(l,6)"
      ],
      "metadata": {
        "colab": {
          "base_uri": "https://localhost:8080/"
        },
        "id": "6qSGB8f0Bx4a",
        "outputId": "43cb8067-3261-4a0d-dba2-bb9209d0b64e"
      },
      "execution_count": 2,
      "outputs": [
        {
          "output_type": "execute_result",
          "data": {
            "text/plain": [
              "5"
            ]
          },
          "metadata": {},
          "execution_count": 2
        }
      ]
    },
    {
      "cell_type": "code",
      "source": [
        "l = [5,4,2,7,4,5,6]\n",
        "\n",
        "position(l,5)"
      ],
      "metadata": {
        "colab": {
          "base_uri": "https://localhost:8080/"
        },
        "id": "gM57mXJxB2H7",
        "outputId": "245ecaa7-4dde-4701-f69b-9157ab906aba"
      },
      "execution_count": 3,
      "outputs": [
        {
          "output_type": "execute_result",
          "data": {
            "text/plain": [
              "0"
            ]
          },
          "metadata": {},
          "execution_count": 3
        }
      ]
    },
    {
      "cell_type": "code",
      "source": [],
      "metadata": {
        "id": "nB7xQ797B-I9"
      },
      "execution_count": 3,
      "outputs": []
    }
  ]
}