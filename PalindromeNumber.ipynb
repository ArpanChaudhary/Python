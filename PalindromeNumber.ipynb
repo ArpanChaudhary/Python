{
  "nbformat": 4,
  "nbformat_minor": 0,
  "metadata": {
    "colab": {
      "provenance": [],
      "authorship_tag": "ABX9TyOrKvxpDBbmH8aOElQrrh+t",
      "include_colab_link": true
    },
    "kernelspec": {
      "name": "python3",
      "display_name": "Python 3"
    },
    "language_info": {
      "name": "python"
    }
  },
  "cells": [
    {
      "cell_type": "markdown",
      "metadata": {
        "id": "view-in-github",
        "colab_type": "text"
      },
      "source": [
        "<a href=\"https://colab.research.google.com/github/ArpanChaudhary/Python/blob/main/PalindromeNumber.ipynb\" target=\"_parent\"><img src=\"https://colab.research.google.com/assets/colab-badge.svg\" alt=\"Open In Colab\"/></a>"
      ]
    },
    {
      "cell_type": "code",
      "source": [
        "## Problem:\n",
        "\n",
        "## Given a string, determine if it is a palindrome. A palindrome is a word, phrase, number, or other sequence of characters that reads the same backward as forward."
      ],
      "metadata": {
        "id": "rgQiP-jKpLK6"
      },
      "execution_count": 1,
      "outputs": []
    },
    {
      "cell_type": "code",
      "source": [
        "def is_palindrome(s):\n",
        "\n",
        "    # Remove non-alphanumeric characters and convert to lowercase\n",
        "    # s = ''.join(c for c in s if c.isalnum()).lower()\n",
        "\n",
        "    # Check if the reversed string is equal to the original string\n",
        "    return s == s[::-1]\n",
        "\n",
        "# Example usage:\n",
        "string = \"racecar\"\n",
        "\n",
        "is_palindrome(string)\n"
      ],
      "metadata": {
        "colab": {
          "base_uri": "https://localhost:8080/"
        },
        "id": "JC86U-gzpRDO",
        "outputId": "82b4156c-6e65-4ac7-d4b3-f9d5bd8ccb2a"
      },
      "execution_count": 2,
      "outputs": [
        {
          "output_type": "execute_result",
          "data": {
            "text/plain": [
              "True"
            ]
          },
          "metadata": {},
          "execution_count": 2
        }
      ]
    },
    {
      "cell_type": "code",
      "source": [
        "string = \"madam\"\n",
        "\n",
        "is_palindrome(string)"
      ],
      "metadata": {
        "colab": {
          "base_uri": "https://localhost:8080/"
        },
        "id": "2U4TQ9jWpdq0",
        "outputId": "2ec157fb-561b-431f-ff86-198fcd185d8f"
      },
      "execution_count": 3,
      "outputs": [
        {
          "output_type": "execute_result",
          "data": {
            "text/plain": [
              "True"
            ]
          },
          "metadata": {},
          "execution_count": 3
        }
      ]
    },
    {
      "cell_type": "code",
      "source": [],
      "metadata": {
        "id": "hXRRBpaVgo-k"
      },
      "execution_count": 3,
      "outputs": []
    }
  ]
}