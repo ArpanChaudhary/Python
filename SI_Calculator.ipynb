{
  "nbformat": 4,
  "nbformat_minor": 0,
  "metadata": {
    "colab": {
      "provenance": [],
      "authorship_tag": "ABX9TyOcG3Uxel9ly4DLiOHGob9v",
      "include_colab_link": true
    },
    "kernelspec": {
      "name": "python3",
      "display_name": "Python 3"
    },
    "language_info": {
      "name": "python"
    }
  },
  "cells": [
    {
      "cell_type": "markdown",
      "metadata": {
        "id": "view-in-github",
        "colab_type": "text"
      },
      "source": [
        "<a href=\"https://colab.research.google.com/github/ArpanChaudhary/Python/blob/main/SI_Calculator.ipynb\" target=\"_parent\"><img src=\"https://colab.research.google.com/assets/colab-badge.svg\" alt=\"Open In Colab\"/></a>"
      ]
    },
    {
      "cell_type": "code",
      "source": [
        "def SI_calculator():\n",
        "\n",
        "  principle = float(input(\"Enter your amount: \"))\n",
        "  rate = float(input(\"Enter your interest rate: \"))\n",
        "  time = float(input(\"For how much time you need it: \"))\n",
        "\n",
        "  interest = (principle * rate * time)/100\n",
        "  total_amount = principle + interest\n",
        "  print(\"Simple Interest: \",interest)\n",
        "\n",
        "  print(\"Total amount to collect: \",total_amount)"
      ],
      "metadata": {
        "id": "e9ykUz_otQio"
      },
      "execution_count": 1,
      "outputs": []
    },
    {
      "cell_type": "code",
      "source": [
        "SI_calculator()"
      ],
      "metadata": {
        "colab": {
          "base_uri": "https://localhost:8080/"
        },
        "id": "Z0o69G6lvIXI",
        "outputId": "649caf18-622b-49da-afdc-87ae568ab741"
      },
      "execution_count": 2,
      "outputs": [
        {
          "output_type": "stream",
          "name": "stdout",
          "text": [
            "Enter your amount: 12000\n",
            "Enter your interest rate: 5\n",
            "For how much time you need it: 3\n",
            "Simple Interest:  1800.0\n",
            "Total amount to collect:  13800.0\n"
          ]
        }
      ]
    },
    {
      "cell_type": "code",
      "source": [],
      "metadata": {
        "id": "ypAv77raz-W2"
      },
      "execution_count": 2,
      "outputs": []
    }
  ]
}