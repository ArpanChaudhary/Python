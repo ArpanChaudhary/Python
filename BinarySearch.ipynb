{
  "nbformat": 4,
  "nbformat_minor": 0,
  "metadata": {
    "colab": {
      "provenance": [],
      "authorship_tag": "ABX9TyPl2OLGysB0qCEIo96mC6zc",
      "include_colab_link": true
    },
    "kernelspec": {
      "name": "python3",
      "display_name": "Python 3"
    },
    "language_info": {
      "name": "python"
    }
  },
  "cells": [
    {
      "cell_type": "markdown",
      "metadata": {
        "id": "view-in-github",
        "colab_type": "text"
      },
      "source": [
        "<a href=\"https://colab.research.google.com/github/ArpanChaudhary/Python/blob/main/BinarySearch.ipynb\" target=\"_parent\"><img src=\"https://colab.research.google.com/assets/colab-badge.svg\" alt=\"Open In Colab\"/></a>"
      ]
    },
    {
      "cell_type": "code",
      "execution_count": 1,
      "metadata": {
        "id": "oXsb6FCUEVa1"
      },
      "outputs": [],
      "source": [
        "def bsearch(seq,v,l,r):\n",
        "\n",
        "  if (r - l == 0):\n",
        "    return False\n",
        "\n",
        "  mid = (l + r) // 2\n",
        "  if (v == seq[mid]):\n",
        "    return True\n",
        "\n",
        "  if (v < seq[mid]):\n",
        "    return bsearch(seq,v,l,mid)\n",
        "  else:\n",
        "    return bsearch(seq,v,mid+1,r)"
      ]
    },
    {
      "cell_type": "code",
      "source": [
        "seq = [1,2,3,4,5,6,7,8]\n",
        "\n",
        "\n",
        "bsearch(seq,4,0,7)"
      ],
      "metadata": {
        "id": "WcKqCv6_EpqO",
        "colab": {
          "base_uri": "https://localhost:8080/"
        },
        "outputId": "8edffda1-57c3-4399-9d9e-599e4216e5ea"
      },
      "execution_count": 2,
      "outputs": [
        {
          "output_type": "execute_result",
          "data": {
            "text/plain": [
              "True"
            ]
          },
          "metadata": {},
          "execution_count": 2
        }
      ]
    },
    {
      "cell_type": "code",
      "source": [
        "seq1 = [5,6,7,8,9,10]\n",
        "\n",
        "bsearch(seq,10,0,5)"
      ],
      "metadata": {
        "colab": {
          "base_uri": "https://localhost:8080/"
        },
        "id": "_aeEoqzkml5a",
        "outputId": "75937886-56af-44f1-84f6-b3fa6b00b16c"
      },
      "execution_count": 3,
      "outputs": [
        {
          "output_type": "execute_result",
          "data": {
            "text/plain": [
              "False"
            ]
          },
          "metadata": {},
          "execution_count": 3
        }
      ]
    },
    {
      "cell_type": "code",
      "source": [],
      "metadata": {
        "id": "HqozbbgGPikB"
      },
      "execution_count": 3,
      "outputs": []
    }
  ]
}