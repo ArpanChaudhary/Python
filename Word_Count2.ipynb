{
  "nbformat": 4,
  "nbformat_minor": 0,
  "metadata": {
    "colab": {
      "provenance": [],
      "authorship_tag": "ABX9TyP1uylOJ7efYvfvWz7rdxNA",
      "include_colab_link": true
    },
    "kernelspec": {
      "name": "python3",
      "display_name": "Python 3"
    },
    "language_info": {
      "name": "python"
    }
  },
  "cells": [
    {
      "cell_type": "markdown",
      "metadata": {
        "id": "view-in-github",
        "colab_type": "text"
      },
      "source": [
        "<a href=\"https://colab.research.google.com/github/ArpanChaudhary/Python/blob/main/Word_Count2.ipynb\" target=\"_parent\"><img src=\"https://colab.research.google.com/assets/colab-badge.svg\" alt=\"Open In Colab\"/></a>"
      ]
    },
    {
      "cell_type": "code",
      "execution_count": 1,
      "metadata": {
        "colab": {
          "base_uri": "https://localhost:8080/"
        },
        "id": "O58BgNL_lZtC",
        "outputId": "47720900-26d9-44b3-fe4f-4a35af51b6b6"
      },
      "outputs": [
        {
          "output_type": "stream",
          "name": "stdout",
          "text": [
            "[('apple', 2), ('banana', 2)]\n"
          ]
        }
      ],
      "source": [
        "import multiprocessing\n",
        "\n",
        "\n",
        "def mapper(data):\n",
        "  key,value=data\n",
        "  words = value.split()\n",
        "  return [(word,1) for word in words]\n",
        "\n",
        "\n",
        "def reducer(data):\n",
        "  key,value=data\n",
        "  return (key,sum(value))\n",
        "\n",
        "\n",
        "def mapreducer(data,mapper,reducer):\n",
        "  pool = multiprocessing.Pool(processes=2)\n",
        "  mapped_data=pool.map(mapper,data)\n",
        "  flattened_data=[item for sublist in mapped_data for item in sublist]\n",
        "\n",
        "  grouped_data={}\n",
        "\n",
        "  for key,value in flattened_data:\n",
        "    grouped_data.setdefault(key,[]).append(value)\n",
        "\n",
        "  reduced_data=pool.map(reducer,grouped_data.items())\n",
        "\n",
        "  pool.close()\n",
        "  pool.join()\n",
        "  return reduced_data\n",
        "\n",
        "if __name__ == '__main__':\n",
        "  data = [(1,'apple banana'),(2,'banana apple')]\n",
        "\n",
        "  result = mapreducer(data,mapper,reducer)\n",
        "  print(result)"
      ]
    }
  ]
}