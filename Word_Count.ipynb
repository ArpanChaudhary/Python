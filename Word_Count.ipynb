{
  "nbformat": 4,
  "nbformat_minor": 0,
  "metadata": {
    "colab": {
      "provenance": [],
      "authorship_tag": "ABX9TyN5ZEwUjqOAVf6u2Lw71HKa",
      "include_colab_link": true
    },
    "kernelspec": {
      "name": "python3",
      "display_name": "Python 3"
    },
    "language_info": {
      "name": "python"
    }
  },
  "cells": [
    {
      "cell_type": "markdown",
      "metadata": {
        "id": "view-in-github",
        "colab_type": "text"
      },
      "source": [
        "<a href=\"https://colab.research.google.com/github/ArpanChaudhary/Python/blob/main/Word_Count.ipynb\" target=\"_parent\"><img src=\"https://colab.research.google.com/assets/colab-badge.svg\" alt=\"Open In Colab\"/></a>"
      ]
    },
    {
      "cell_type": "code",
      "source": [
        "import multiprocessing\n",
        "from collections import defaultdict\n",
        "\n",
        "def mapper(chunks):\n",
        "  word_count=defaultdict(int)\n",
        "  for word in chunks.split():\n",
        "    word_count[word]+=1\n",
        "  return word_count\n",
        "\n",
        "def reducer(results):\n",
        "  word_count=defaultdict(int)\n",
        "  for wc in results:\n",
        "    for word,count in wc.items():\n",
        "      word_count[word]+=count\n",
        "  return word_count\n",
        "\n",
        "def mapreducer(data,mapper,reducer):\n",
        "  with multiprocessing.Pool(processes=2) as pool:\n",
        "    mapped_data=pool.map(mapper,data)\n",
        "    reduced_data=reducer(mapped_data)\n",
        "  return reduced_data\n",
        "\n",
        "if __name__ == \"__main__\":\n",
        "  data=['1','2','3','4','5']\n",
        "  result=mapreducer(data,mapper,reducer)\n",
        "  for word,count in result.items():\n",
        "    print(f'{word}:{count}')"
      ],
      "metadata": {
        "colab": {
          "base_uri": "https://localhost:8080/"
        },
        "id": "OnJbPxyPthLm",
        "outputId": "27c85ddd-b546-434a-b6e4-292221a5dcd1"
      },
      "execution_count": 1,
      "outputs": [
        {
          "output_type": "stream",
          "name": "stdout",
          "text": [
            "1:1\n",
            "2:1\n",
            "3:1\n",
            "4:1\n",
            "5:1\n"
          ]
        }
      ]
    },
    {
      "cell_type": "code",
      "source": [],
      "metadata": {
        "id": "PlIE02ACv6eH"
      },
      "execution_count": 1,
      "outputs": []
    }
  ]
}