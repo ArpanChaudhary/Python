{
  "nbformat": 4,
  "nbformat_minor": 0,
  "metadata": {
    "colab": {
      "provenance": [],
      "authorship_tag": "ABX9TyNPFz36+pYCrOazNzMgGOJU",
      "include_colab_link": true
    },
    "kernelspec": {
      "name": "python3",
      "display_name": "Python 3"
    },
    "language_info": {
      "name": "python"
    }
  },
  "cells": [
    {
      "cell_type": "markdown",
      "metadata": {
        "id": "view-in-github",
        "colab_type": "text"
      },
      "source": [
        "<a href=\"https://colab.research.google.com/github/ArpanChaudhary/Python/blob/main/Stopwords.ipynb\" target=\"_parent\"><img src=\"https://colab.research.google.com/assets/colab-badge.svg\" alt=\"Open In Colab\"/></a>"
      ]
    },
    {
      "cell_type": "code",
      "source": [
        "def remove_stopwords(sentence,stopwords):\n",
        "  words=sentence.split()\n",
        "  filtered_sentence=[word for word in words if word.lower() not in stopwords]\n",
        "  return ' '.join(filtered_sentence)\n",
        "\n",
        "def main(input_file,stopwords_file,output_file):\n",
        "  with open(stopwords_file,'r') as f:\n",
        "    stopwords=set([word.strip().lower() for word in f.readlines()])\n",
        "\n",
        "  with open(input_file,'r') as f:\n",
        "    sentence=f.readlines()\n",
        "\n",
        "  with open(output_file,'w') as f:\n",
        "    for sentence in sentence:\n",
        "      filtered_sentence=remove_stopwords(sentence,stopwords)\n",
        "      f.write(filtered_sentence + '\\n')\n",
        "\n",
        "if __name__ == \"__main__\":\n",
        "  input_file='input.txt'\n",
        "  stopwords_file='stopwords_file.txt'\n",
        "  output_file='output.txt'\n",
        "\n",
        "  main(input_file,stopwords_file,output_file)\n",
        "\n",
        "  print(output_file)\n"
      ],
      "metadata": {
        "id": "U83Hd0iiD7F4"
      },
      "execution_count": null,
      "outputs": []
    }
  ]
}