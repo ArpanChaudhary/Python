{
  "nbformat": 4,
  "nbformat_minor": 0,
  "metadata": {
    "colab": {
      "provenance": [],
      "authorship_tag": "ABX9TyOgOlJ5sbEmgaYBzq8SBWAy",
      "include_colab_link": true
    },
    "kernelspec": {
      "name": "python3",
      "display_name": "Python 3"
    },
    "language_info": {
      "name": "python"
    }
  },
  "cells": [
    {
      "cell_type": "markdown",
      "metadata": {
        "id": "view-in-github",
        "colab_type": "text"
      },
      "source": [
        "<a href=\"https://colab.research.google.com/github/ArpanChaudhary/Python/blob/main/Bubble_Sort.ipynb\" target=\"_parent\"><img src=\"https://colab.research.google.com/assets/colab-badge.svg\" alt=\"Open In Colab\"/></a>"
      ]
    },
    {
      "cell_type": "code",
      "source": [
        "def bubble_sort(arr):\n",
        "  n = len(arr)\n",
        "\n",
        "  for i in range(n-1):\n",
        "    for j in range(0, n - i - 1):\n",
        "      if arr[j] > arr[j+1]:\n",
        "        arr[j],arr[j+1] = arr[j+1],arr[j]\n",
        "\n",
        "arr = [56,76,54,56,34,43,23]\n",
        "\n",
        "bubble_sort(arr)\n",
        "\n",
        "print(\"Sorted_array: \",arr)"
      ],
      "metadata": {
        "colab": {
          "base_uri": "https://localhost:8080/"
        },
        "id": "FPwPO-XLKNPH",
        "outputId": "39800aea-ae7f-4a16-805b-3b88ec1b6d98"
      },
      "execution_count": 1,
      "outputs": [
        {
          "output_type": "stream",
          "name": "stdout",
          "text": [
            "Sorted_array:  [23, 34, 43, 54, 56, 56, 76]\n"
          ]
        }
      ]
    },
    {
      "cell_type": "code",
      "source": [
        "arr = input(\"Enter a 10 digit number: \")\n",
        "\n",
        "arr = list(arr)\n",
        "\n",
        "def bubble_sort(arr):\n",
        "  n = len(arr)\n",
        "\n",
        "  for i in range(n-1):\n",
        "    for j in range(0, n - i - 1):\n",
        "      if arr[j] > arr[j+1]:\n",
        "        arr[j], arr[j+1] = arr[j+1],arr[j]\n",
        "\n",
        "bubble_sort(arr)\n",
        "\n",
        "print(\"Sorted_array: \",arr)"
      ],
      "metadata": {
        "colab": {
          "base_uri": "https://localhost:8080/"
        },
        "id": "cCSEJrn3MF5f",
        "outputId": "47269011-bab4-40ea-b613-722aa24ecca5"
      },
      "execution_count": 2,
      "outputs": [
        {
          "output_type": "stream",
          "name": "stdout",
          "text": [
            "Enter a 10 digit number: 4587963210\n",
            "Sorted_array:  ['0', '1', '2', '3', '4', '5', '6', '7', '8', '9']\n"
          ]
        }
      ]
    },
    {
      "cell_type": "code",
      "source": [
        "arr = input(\"Enter numbers to sort: \")\n",
        "\n",
        "arr = arr.split()\n",
        "\n",
        "def bubble_sort(arr):\n",
        "  n = len(arr)\n",
        "\n",
        "  for i in range(n-1):\n",
        "    for j in range(0, n - i - 1):\n",
        "      if arr[j] > arr[j+1]:\n",
        "        arr[j], arr[j+1] = arr[j+1],arr[j]\n",
        "\n",
        "bubble_sort(arr)\n",
        "\n",
        "print(\"Sorted_array: \",arr)"
      ],
      "metadata": {
        "colab": {
          "base_uri": "https://localhost:8080/"
        },
        "id": "f77WI7p-NbNa",
        "outputId": "89091b64-882f-483b-be8a-b7c05eb53cfd"
      },
      "execution_count": 3,
      "outputs": [
        {
          "output_type": "stream",
          "name": "stdout",
          "text": [
            "Enter numbers to sort: 52 45 25 48 78 96 36 45 10 \n",
            "Sorted_array:  ['10', '25', '36', '45', '45', '48', '52', '78', '96']\n"
          ]
        }
      ]
    }
  ]
}