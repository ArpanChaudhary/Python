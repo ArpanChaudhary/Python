{
  "nbformat": 4,
  "nbformat_minor": 0,
  "metadata": {
    "colab": {
      "provenance": []
    },
    "kernelspec": {
      "name": "python3",
      "display_name": "Python 3"
    },
    "language_info": {
      "name": "python"
    }
  },
  "cells": [
    {
      "cell_type": "code",
      "execution_count": null,
      "metadata": {
        "colab": {
          "base_uri": "https://localhost:8080/"
        },
        "id": "jrQejAVcj6eL",
        "outputId": "5578da9a-4149-4fb1-e06e-affd014f39e9"
      },
      "outputs": [
        {
          "output_type": "stream",
          "name": "stdout",
          "text": [
            "Enter password length of your choice: 5\n",
            "Your password is:  X*8)g\n"
          ]
        }
      ],
      "source": [
        "# Otp generation, length of password will depend on user choice\n",
        "\n",
        "import string\n",
        "import random\n",
        "\n",
        "\n",
        "password_length  = int(input(\"Enter password length of your choice: \"))\n",
        "\n",
        "if password_length > 0:\n",
        "  password = ''.join(random.choice(string.ascii_letters + string.punctuation + string.digits) for i in range(password_length))\n",
        "  print(\"Your password is: \",password)"
      ]
    },
    {
      "cell_type": "code",
      "source": [
        "# Login using otp\n",
        "\n",
        "import numpy as np\n",
        "\n",
        "def generate_otp():\n",
        "  otp = np.random.randint(1000,9999,1)\n",
        "  print(\"Your otp is: \",otp)\n",
        "\n",
        "  user_otp = int(input(\"Enter otp: \"))\n",
        "  if user_otp==otp:\n",
        "    print(\"Login success\")\n",
        "  else:\n",
        "    print(\"Invalid credentials!\")\n"
      ],
      "metadata": {
        "id": "fJEY0Y3-ke8k"
      },
      "execution_count": null,
      "outputs": []
    },
    {
      "cell_type": "code",
      "source": [
        "generate_otp()"
      ],
      "metadata": {
        "colab": {
          "base_uri": "https://localhost:8080/"
        },
        "id": "auMW3qhek6L9",
        "outputId": "cdb108cc-774b-49f1-c839-d80f76c37e79"
      },
      "execution_count": null,
      "outputs": [
        {
          "output_type": "stream",
          "name": "stdout",
          "text": [
            "Your otp is:  [7791]\n",
            "Enter otp: 7791\n",
            "Login success\n"
          ]
        }
      ]
    },
    {
      "cell_type": "code",
      "source": [
        "# Otp generation, length of password will depend on user choice and login\n",
        "\n",
        "import string\n",
        "import random\n",
        "\n",
        "\n",
        "password_length  = int(input(\"Enter password length of your choice: \"))\n",
        "\n",
        "if password_length > 0:\n",
        "  password = ''.join(random.choice(string.ascii_letters + string.punctuation + string.digits) for i in range(password_length))\n",
        "  print(\"Your password is: \",password)\n",
        "\n",
        "\n",
        "user_otp = input(\"Enter otp: \")\n",
        "if user_otp == password:\n",
        "  print(\"Login success\")\n",
        "else:\n",
        "  print(\"Invalid credentials!\")"
      ],
      "metadata": {
        "colab": {
          "base_uri": "https://localhost:8080/"
        },
        "id": "LQRNusTmlakq",
        "outputId": "615cd738-1f5b-42e9-afcd-9fd528a9a38e"
      },
      "execution_count": null,
      "outputs": [
        {
          "output_type": "stream",
          "name": "stdout",
          "text": [
            "Enter password length of your choice: 5\n",
            "Your password is:  3ap,'\n",
            "Enter otp: 3ap,'\n",
            "Login success\n"
          ]
        }
      ]
    }
  ]
}