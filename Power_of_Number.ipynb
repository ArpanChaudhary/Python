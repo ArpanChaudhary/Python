{
  "nbformat": 4,
  "nbformat_minor": 0,
  "metadata": {
    "colab": {
      "provenance": [],
      "authorship_tag": "ABX9TyPo4W9r0o2eTJROn16UqYkI",
      "include_colab_link": true
    },
    "kernelspec": {
      "name": "python3",
      "display_name": "Python 3"
    },
    "language_info": {
      "name": "python"
    }
  },
  "cells": [
    {
      "cell_type": "markdown",
      "metadata": {
        "id": "view-in-github",
        "colab_type": "text"
      },
      "source": [
        "<a href=\"https://colab.research.google.com/github/ArpanChaudhary/Python/blob/main/Power_of_Number.ipynb\" target=\"_parent\"><img src=\"https://colab.research.google.com/assets/colab-badge.svg\" alt=\"Open In Colab\"/></a>"
      ]
    },
    {
      "cell_type": "code",
      "source": [
        "base = int(input(\"Enter a number: \"))\n",
        "\n",
        "exponent = int(input(\"Enter the power: \"))\n",
        "\n",
        "result = base ** exponent\n",
        "\n",
        "print(\"Result: \",result)"
      ],
      "metadata": {
        "colab": {
          "base_uri": "https://localhost:8080/"
        },
        "id": "0kuDU7qUk7bA",
        "outputId": "4a029eb7-c942-45c1-f2df-9bca3e9f3c7a"
      },
      "execution_count": 1,
      "outputs": [
        {
          "output_type": "stream",
          "name": "stdout",
          "text": [
            "Enter a number: 10\n",
            "Enter the power: 10\n",
            "Result:  10000000000\n"
          ]
        }
      ]
    }
  ]
}