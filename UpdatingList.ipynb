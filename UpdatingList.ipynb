{
  "nbformat": 4,
  "nbformat_minor": 0,
  "metadata": {
    "colab": {
      "provenance": [],
      "authorship_tag": "ABX9TyPh1lHMPDeIny3E1VymS0U2",
      "include_colab_link": true
    },
    "kernelspec": {
      "name": "python3",
      "display_name": "Python 3"
    },
    "language_info": {
      "name": "python"
    }
  },
  "cells": [
    {
      "cell_type": "markdown",
      "metadata": {
        "id": "view-in-github",
        "colab_type": "text"
      },
      "source": [
        "<a href=\"https://colab.research.google.com/github/ArpanChaudhary/Python/blob/main/UpdatingList.ipynb\" target=\"_parent\"><img src=\"https://colab.research.google.com/assets/colab-badge.svg\" alt=\"Open In Colab\"/></a>"
      ]
    },
    {
      "cell_type": "code",
      "source": [
        "def update(l,i,v):\n",
        "  if i > 0 and i < len(l):\n",
        "    l[i] = v\n",
        "    return (\"List updated: \",l)\n",
        "\n",
        "  else:\n",
        "    return ('List not updated!')"
      ],
      "metadata": {
        "id": "p3_7tN9p2cUc"
      },
      "execution_count": 1,
      "outputs": []
    },
    {
      "cell_type": "code",
      "source": [
        "l = [1,3,5,7]\n",
        "v = 9\n",
        "\n",
        "update(l,4,v)"
      ],
      "metadata": {
        "colab": {
          "base_uri": "https://localhost:8080/",
          "height": 36
        },
        "id": "5RH_-ruG3MQ2",
        "outputId": "143a5237-3037-4a01-9517-271770bd3113"
      },
      "execution_count": 2,
      "outputs": [
        {
          "output_type": "execute_result",
          "data": {
            "text/plain": [
              "'List not updated!'"
            ],
            "application/vnd.google.colaboratory.intrinsic+json": {
              "type": "string"
            }
          },
          "metadata": {},
          "execution_count": 2
        }
      ]
    },
    {
      "cell_type": "code",
      "source": [
        "l = [1,3,5,9]\n",
        "v = 7\n",
        "\n",
        "update(l,3,v)"
      ],
      "metadata": {
        "colab": {
          "base_uri": "https://localhost:8080/"
        },
        "id": "S1xNWXM13RXa",
        "outputId": "0e600bea-511b-4d86-b7ce-5111886e7a87"
      },
      "execution_count": 3,
      "outputs": [
        {
          "output_type": "execute_result",
          "data": {
            "text/plain": [
              "('List updated: ', [1, 3, 5, 7])"
            ]
          },
          "metadata": {},
          "execution_count": 3
        }
      ]
    },
    {
      "cell_type": "code",
      "source": [],
      "metadata": {
        "id": "GBFpW_gs3Xaz"
      },
      "execution_count": 3,
      "outputs": []
    }
  ]
}